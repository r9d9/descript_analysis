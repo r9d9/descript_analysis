{
 "cells": [
  {
   "cell_type": "code",
   "execution_count": 1,
   "metadata": {},
   "outputs": [],
   "source": [
    "import numpy as np"
   ]
  },
  {
   "cell_type": "code",
   "execution_count": 2,
   "metadata": {},
   "outputs": [],
   "source": [
    "#test: neue matrix ist mit Werten gefüllt!\n",
    "n = 10\n",
    "m = 20\n",
    "die_matrix = np.ndarray((n,m))\n",
    "#die_matrix"
   ]
  },
  {
   "cell_type": "code",
   "execution_count": 3,
   "metadata": {},
   "outputs": [
    {
     "name": "stdout",
     "output_type": "stream",
     "text": [
      "[1 4 9]\n"
     ]
    }
   ],
   "source": [
    "test = np.array([1,2,3])\n",
    "powered = np.power(test,2)\n",
    "print(powered)"
   ]
  },
  {
   "cell_type": "code",
   "execution_count": 4,
   "metadata": {},
   "outputs": [
    {
     "name": "stdout",
     "output_type": "stream",
     "text": [
      "[0.    0.05  0.115 1.    0.825 0.65 ]\n",
      "[0.    0.05  0.115 1.    0.825 0.65 ]\n"
     ]
    }
   ],
   "source": [
    "#testing np.interp\n",
    "test2 = np.array([-1,-0.9,-0.77,1,0.65,0.3])\n",
    "new = np.interp(test2, (test2.min(), test2.max()), (0, 1))\n",
    "print(new) \n",
    "newx = test2*0.5 + 0.5\n",
    "print(newx)"
   ]
  },
  {
   "cell_type": "code",
   "execution_count": 5,
   "metadata": {},
   "outputs": [
    {
     "name": "stdout",
     "output_type": "stream",
     "text": [
      "0.218400239944458 s\n"
     ]
    }
   ],
   "source": [
    "import time\n",
    "n = 10000000\n",
    "python_array = [1] * n # array mit n Einträgen\n",
    "start = time.time()\n",
    "mysum = sum(python_array)\n",
    "#for x in range(0, n):\n",
    "#    sum += python_array[x] \n",
    "end = time.time()\n",
    "time_py = end - start\n",
    "print(str(time_py) + \" s\")"
   ]
  },
  {
   "cell_type": "code",
   "execution_count": null,
   "metadata": {},
   "outputs": [],
   "source": []
  }
 ],
 "metadata": {
  "kernelspec": {
   "display_name": "Python 3",
   "language": "python",
   "name": "python3"
  },
  "language_info": {
   "codemirror_mode": {
    "name": "ipython",
    "version": 3
   },
   "file_extension": ".py",
   "mimetype": "text/x-python",
   "name": "python",
   "nbconvert_exporter": "python",
   "pygments_lexer": "ipython3",
   "version": "3.6.5"
  }
 },
 "nbformat": 4,
 "nbformat_minor": 2
}
