{
 "cells": [
  {
   "cell_type": "code",
   "execution_count": 41,
   "metadata": {},
   "outputs": [],
   "source": [
    "# mehrdim. Datensatz mit mehreren Clustern generieren mit Hilfe v. Verteilungsfkt\n",
    "# versucht die Daten mit KMeans zu clustern\n",
    "# manipuliert die Daten und konstruiert Fälle in denen das Clustering nicht mehr wie gewünscht funktioniert\n",
    "#(Daten skalieren, falsche Cluster Anzahl, vorgegebene Intialisierung\n",
    "\n",
    "import numpy as np\n",
    "import pandas as pd\n",
    "import matplotlib.pyplot as plt\n",
    "from IPython.display import display, HTML\n",
    "from sklearn.cluster import KMeans\n",
    "from sklearn.mixture import GaussianMixture\n",
    "from math import ceil\n",
    "from math import factorial"
   ]
  },
  {
   "cell_type": "code",
   "execution_count": 37,
   "metadata": {},
   "outputs": [
    {
     "data": {
      "text/plain": [
       "\"\\nnew_clustdata = ClusterData(100,10)\\nnew_clustdata.dim\\nanother_df = new_clustdata.make_dataset()\\nwith pd.option_context('display.max_rows', None, 'display.max_columns', 10): # shows the whole df \\n    display(another_df)\\nnew_res = new_clustdata.run_KMeans(another_df,3)\\nnew_clustdata.make_many_subplots(another_df,new_res)\\n\""
      ]
     },
     "execution_count": 37,
     "metadata": {},
     "output_type": "execute_result"
    }
   ],
   "source": [
    "# nrows muss momentan gerade sein!\n",
    "\n",
    "class ClusterData:\n",
    "    def __init__(self,nrows,dim):\n",
    "        self.nrows = nrows\n",
    "        self.dim = dim\n",
    "        \n",
    "    def make_dataset(self):\n",
    "        \"\"\"nr_clusters = 2\"\"\"\n",
    "        nrows_cluster = int(self.nrows/2) # rows for 1 cluster\n",
    "        data_array = np.zeros((self.nrows,self.dim))\n",
    "        colnames = [\"feature\" + str(x) for x in range(1,self.dim+1)]\n",
    "        df = pd.DataFrame(data = data_array, columns = colnames)\n",
    "        for col in colnames:\n",
    "            df.loc[0:nrows_cluster-1,col] = np.random.normal(0,1,nrows_cluster)\n",
    "            df.loc[nrows_cluster:,col] = np.random.normal(10,1,nrows_cluster)\n",
    "        return df\n",
    "    \n",
    "    def run_KMeans(self,data,n_clust):\n",
    "        K = KMeans(n_clusters=n_clust).fit(data)\n",
    "        return K\n",
    "        \n",
    "    def make_many_subplots(self,data,KMeansResults):\n",
    "        nr_subplots = int(factorial(self.dim)/(factorial(2)*factorial(self.dim-2))) # Binomialkoeffizient\n",
    "        print(nr_subplots)\n",
    "        x_axis_features = [(self.dim-x)*[x] for x in range(1,self.dim)]\n",
    "        x_axis_features = [\"feature\" + str(item) for sublist in x_axis_features for item in sublist] # just for flattening\n",
    "        y_axis_features = [list(range(x+1,self.dim+1)) for x in range(1,self.dim)]\n",
    "        y_axis_features = [\"feature\" + str(item) for sublist in y_axis_features for item in sublist] \n",
    "        features = list(zip(x_axis_features,y_axis_features)) # contents are called e.g. with features[2][1]\n",
    "        display(features)\n",
    "        subplot_rownr = ceil(nr_subplots/2)\n",
    "        fig = plt.figure(figsize=(10,subplot_rownr*2))\n",
    "        for plotnr in range(0,nr_subplots):\n",
    "            xdata = data[features[plotnr][0]]\n",
    "            ydata = data[features[plotnr][1]]\n",
    "            xname = features[plotnr][0]\n",
    "            yname = features[plotnr][1]\n",
    "            plt.subplot(subplot_rownr,2,plotnr+1)\n",
    "            plt.scatter(xdata,ydata,c = KMeansResults.labels_)\n",
    "            plt.xlabel(xname)\n",
    "            plt.ylabel(yname)\n",
    "        plt.tight_layout()\n",
    "        plt.show()\n",
    "\n",
    "# nrows muss momentan gerade sein!\n",
    "        \n",
    "\"\"\"\n",
    "clustdata = ClusterData(100,3)\n",
    "a_df = clustdata.make_dataset()\n",
    "with pd.option_context('display.max_rows', None, 'display.max_columns', 10): # shows the whole df \n",
    "    display(a_df)\n",
    "res = clustdata.run_KMeans(a_df,3)\n",
    "clustdata.make_many_subplots(a_df,res)\n",
    "\"\"\"\n",
    "\n",
    "\"\"\"\n",
    "new_clustdata = ClusterData(100,4)\n",
    "new_clustdata.dim\n",
    "another_df = new_clustdata.make_dataset()\n",
    "with pd.option_context('display.max_rows', None, 'display.max_columns', 10): # shows the whole df \n",
    "    display(another_df)\n",
    "new_res = new_clustdata.run_KMeans(another_df,3)\n",
    "new_clustdata.make_many_subplots(another_df,new_res)\n",
    "\"\"\"\n",
    "\"\"\"\n",
    "new_clustdata = ClusterData(100,5)\n",
    "new_clustdata.dim\n",
    "another_df = new_clustdata.make_dataset()\n",
    "with pd.option_context('display.max_rows', None, 'display.max_columns', 10): # shows the whole df \n",
    "    display(another_df)\n",
    "new_res = new_clustdata.run_KMeans(another_df,3)\n",
    "new_clustdata.make_many_subplots(another_df,new_res)\n",
    "\"\"\"\n",
    "\n",
    "\"\"\"\n",
    "new_clustdata = ClusterData(100,10)\n",
    "new_clustdata.dim\n",
    "another_df = new_clustdata.make_dataset()\n",
    "with pd.option_context('display.max_rows', None, 'display.max_columns', 10): # shows the whole df \n",
    "    display(another_df)\n",
    "new_res = new_clustdata.run_KMeans(another_df,3)\n",
    "new_clustdata.make_many_subplots(another_df,new_res)\n",
    "\"\"\"\n",
    "\n",
    "# not implemented: \n",
    "# check if necessary fcts run, catch errors etc\n",
    "# don't print pics if nr_subplots > 20\n",
    "\n"
   ]
  },
  {
   "cell_type": "code",
   "execution_count": 49,
   "metadata": {},
   "outputs": [],
   "source": [
    "# trying out the GaussianMixture method\n",
    "\n",
    "dataobj = ClusterData(100,5) # 100 rows, 5 dimensions\n",
    "df = dataobj.make_dataset()\n",
    "df\n",
    "\n",
    "KMeans = KMeans(n_clusters = 3).fit(df)\n",
    "KMeans_labels = KMeans.labels_\n",
    "\n",
    "GaussMix = GaussianMixture(n_components = 3,covariance_type=\"full\").fit(df)\n",
    "labels = GaussMix.predict(df)"
   ]
  },
  {
   "cell_type": "code",
   "execution_count": 50,
   "metadata": {},
   "outputs": [
    {
     "data": {
      "text/plain": [
       "Text(0.5,1,'GaussianMixture')"
      ]
     },
     "execution_count": 50,
     "metadata": {},
     "output_type": "execute_result"
    },
    {
     "data": {
      "image/png": "[encoded data removed]",
      "text/plain": [
       "<Figure size 432x288 with 2 Axes>"
      ]
     },
     "metadata": {},
     "output_type": "display_data"
    }
   ],
   "source": [
    "plt.subplot(1,2,1)\n",
    "plt.scatter(df.iloc[:,0],df.iloc[:,1],c=KMeans_labels)\n",
    "plt.title(\"KMeans\")\n",
    "\n",
    "plt.subplot(1,2,2)\n",
    "plt.scatter(df.iloc[:,0],df.iloc[:,1],c=labels)\n",
    "plt.title(\"GaussianMixture\")"
   ]
  },
  {
   "cell_type": "code",
   "execution_count": 45,
   "metadata": {},
   "outputs": [
    {
     "data": {
      "text/plain": [
       "0     -1.724597\n",
       "1      0.204122\n",
       "2     -0.583494\n",
       "3     -0.353783\n",
       "4      1.648288\n",
       "5     -0.481628\n",
       "6      1.297121\n",
       "7     -0.963085\n",
       "8      0.387515\n",
       "9      0.140230\n",
       "10     1.038078\n",
       "11     0.667654\n",
       "12     0.839675\n",
       "13    -0.018956\n",
       "14     1.456424\n",
       "15    -0.748134\n",
       "16     0.720494\n",
       "17     0.764839\n",
       "18     1.469742\n",
       "19     0.682692\n",
       "20    -0.940780\n",
       "21     0.009590\n",
       "22    -0.163089\n",
       "23    -1.526173\n",
       "24    -0.239390\n",
       "25     0.118242\n",
       "26     0.178489\n",
       "27    -0.058309\n",
       "28     0.796031\n",
       "29     0.988165\n",
       "        ...    \n",
       "70    10.812883\n",
       "71    10.391906\n",
       "72     8.421904\n",
       "73    11.435837\n",
       "74     8.773718\n",
       "75     9.882823\n",
       "76    10.187673\n",
       "77    11.043583\n",
       "78    11.115243\n",
       "79    10.835688\n",
       "80    10.674999\n",
       "81    10.204883\n",
       "82    11.002405\n",
       "83    11.203652\n",
       "84     8.573327\n",
       "85     9.723864\n",
       "86    10.692903\n",
       "87     9.574128\n",
       "88    10.437705\n",
       "89     9.537357\n",
       "90     9.602476\n",
       "91    10.393918\n",
       "92     7.913464\n",
       "93     8.507265\n",
       "94     8.848183\n",
       "95     9.506203\n",
       "96     8.806116\n",
       "97    11.264592\n",
       "98    11.019368\n",
       "99     9.090619\n",
       "Name: feature1, Length: 100, dtype: float64"
      ]
     },
     "execution_count": 45,
     "metadata": {},
     "output_type": "execute_result"
    }
   ],
   "source": []
  },
  {
   "cell_type": "code",
   "execution_count": null,
   "metadata": {},
   "outputs": [],
   "source": [
    "for plotnr in range(0,nr_subplots):\n",
    "    xdata = data[features[plotnr][0]]\n",
    "    ydata = data[features[plotnr][1]]\n",
    "    xname = features[plotnr][0]\n",
    "    yname = features[plotnr][1]\n",
    "    plt.subplot(subplot_rownr,2,plotnr+1)\n",
    "    plt.scatter(xdata,ydata,c = KMeansResults.labels_)\n",
    "    plt.xlabel(xname)\n",
    "    plt.ylabel(yname)\n",
    "plt.tight_layout()\n",
    "plt.show()"
   ]
  }
 ],
 "metadata": {
  "kernelspec": {
   "display_name": "Python 3",
   "language": "python",
   "name": "python3"
  },
  "language_info": {
   "codemirror_mode": {
    "name": "ipython",
    "version": 3
   },
   "file_extension": ".py",
   "mimetype": "text/x-python",
   "name": "python",
   "nbconvert_exporter": "python",
   "pygments_lexer": "ipython3",
   "version": "3.6.5"
  }
 },
 "nbformat": 4,
 "nbformat_minor": 2
}
