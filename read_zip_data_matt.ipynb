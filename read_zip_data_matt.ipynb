{
 "cells": [
  {
   "cell_type": "markdown",
   "metadata": {},
   "source": [
    "# Handgeschribene Ziffern"
   ]
  },
  {
   "cell_type": "markdown",
   "metadata": {},
   "source": [
    "Der Beiliegenden Beschreibung der Daten habe ich entnommen, dass es sich um handgeschriebene Ziffern handelt. Die mit 16x16 Bildpunkten abgespeichert sind. Der Beschreibung kann ich weiter entnehmen:\n",
    "\n",
    "*\"The data are in two gzipped files, and each line consists of the digit\n",
    "id (0-9) followed by the 256 grayscale values.\"*\n",
    "\n",
    "Es handelt sich also um eine Textdatei in der in jeder Zeile der Wert der geschriebenen Ziffer sowie die 16x16 = 256 Bildpunkte stehen."
   ]
  },
  {
   "cell_type": "markdown",
   "metadata": {},
   "source": [
    "** Mein Ziel ist es eine Maschine zu bauen, die anhand der Bilddaten (digitalisierten Form der geschriebenen Werte) erkennt, um welche Zahl es sich handelt. **\n",
    "\n",
    "*** Wie komme ich dahin? ***\n",
    "- Zunächst lese ich die Daten ein\n",
    "- Ich berechne einfache empirische Statistiken (Anzahl der Beispiele, Mittelwerte,...) zur Beschreibung des Datensatzes\n",
    "- Ich analysiere die Daten auf bestimmte Muster\n",
    "- Ich probiere verschiedene Verfahren des maschinellen Lernens zur automatischen identifizierung der Ziffern aus\n",
    "- Ich validiere meine Ergebnisse und entscheide mich für ein Vorgehen\n",
    "- Aus meinem Prototypen entwickle ich eine optimierte und stabile Version, \"eine Maschine\"\n",
    "- Ich lege Parameter fest an denen ich erkennen will, ob meine Maschine noch läuft\n",
    "- Ich deploye meine Maschiene!\n",
    "- Ich beobachte ob alles richtig läuft anhand der zuvor definierten Parameter"
   ]
  },
  {
   "cell_type": "markdown",
   "metadata": {},
   "source": [
    "Ok, soweit sind wir noch nicht, also ein paar Rollen zurück!"
   ]
  },
  {
   "cell_type": "markdown",
   "metadata": {},
   "source": [
    "----"
   ]
  },
  {
   "cell_type": "markdown",
   "metadata": {},
   "source": [
    "## Daten Einlesen"
   ]
  },
  {
   "cell_type": "markdown",
   "metadata": {},
   "source": [
    "Wenn wir davon sprechen die Daten einzulesen, dann meinen wir Zugriff auf die Daten zu erhalten. D.h. zumindest einen Teil der Daten muss in den Hauptspeicher (RAM) des verarbeitenden Rechners geladen werden. \n",
    "\n",
    "Warum so kompliziert ausgedrück?\n",
    "\n",
    "Wenn die Datenmengen zu groß werden, dann lesen wir die Daten evtl. mit Hilfe von mehreren Rechnern ein, bearbeiten sie auf dem jeweiligen Rechner und sammeln die reduzierte kompaktere Form auf einem Rechner. Letzteres wird gemacht, um die reduzierten Daten interaktiv zu bearbeiten oder zu visualisieren.\n",
    "\n",
    "Für jetzt gilt aber erstmal. Wir wollen die Daten in den Hauptspeicher unseres Rechners einlesen, um sie hier in diesem Notebook zu verarbeiten. Das geht solange gut, so lange die Daten nicht größer als der freie Hauptspeicher sind."
   ]
  },
  {
   "cell_type": "markdown",
   "metadata": {},
   "source": [
    "**Wir könnten die einfachen Funktionen von Python nutzen um die Daten einzulesen**"
   ]
  },
  {
   "cell_type": "code",
   "execution_count": 1,
   "metadata": {},
   "outputs": [],
   "source": [
    "f = open(\"../data/zip.train\", \"r\") # öffnet die Datei\n",
    "file_content = f.read(100) # liest die ersten 100 Zeichen der Datei"
   ]
  },
  {
   "cell_type": "code",
   "execution_count": 2,
   "metadata": {},
   "outputs": [
    {
     "data": {
      "text/plain": [
       "'6.0000 -1.0000 -1.0000 -1.0000 -1.0000 -1.0000 -1.0000 -1.0000 -0.6310 0.8620 -0.1670 -1.0000 -1.000'"
      ]
     },
     "execution_count": 2,
     "metadata": {},
     "output_type": "execute_result"
    }
   ],
   "source": [
    "file_content"
   ]
  },
  {
   "cell_type": "markdown",
   "metadata": {},
   "source": [
    "Weil es ziemlich aufwendig ist diese Zeichenfolge zu 'interpretieren' nutzen wir Funktionen aus **pandas** um dies für uns zu tun:"
   ]
  },
  {
   "cell_type": "code",
   "execution_count": 3,
   "metadata": {},
   "outputs": [],
   "source": [
    "import pandas as pd"
   ]
  },
  {
   "cell_type": "code",
   "execution_count": 4,
   "metadata": {},
   "outputs": [],
   "source": [
    "# mit header=None, wird die erste Zeile der Datei nicht als Header interpretiert \n",
    "#              (Man könnte den Header in einem solchen Fall als Zeile mit den Spaltenüberschriften bezeichnen)\n",
    "# mit sep=\" \", geben wir an, dass wir das Leerzeichen als Seperator verwenden wollen. \n",
    "#              D.h. zwei durch ein Leerzeichen separierte Werte sollen als zwei Werte eingelesen werden.\n",
    "data = pd.read_csv(\"../data/zip.train\", header=None, sep=\" \") "
   ]
  },
  {
   "cell_type": "code",
   "execution_count": 5,
   "metadata": {},
   "outputs": [
    {
     "data": {
      "text/html": [
       "<div>\n",
       "<style scoped>\n",
       "    .dataframe tbody tr th:only-of-type {\n",
       "        vertical-align: middle;\n",
       "    }\n",
       "\n",
       "    .dataframe tbody tr th {\n",
       "        vertical-align: top;\n",
       "    }\n",
       "\n",
       "    .dataframe thead th {\n",
       "        text-align: right;\n",
       "    }\n",
       "</style>\n",
       "<table border=\"1\" class=\"dataframe\">\n",
       "  <thead>\n",
       "    <tr style=\"text-align: right;\">\n",
       "      <th></th>\n",
       "      <th>0</th>\n",
       "      <th>1</th>\n",
       "      <th>2</th>\n",
       "      <th>3</th>\n",
       "      <th>4</th>\n",
       "      <th>5</th>\n",
       "      <th>6</th>\n",
       "      <th>7</th>\n",
       "      <th>8</th>\n",
       "      <th>9</th>\n",
       "      <th>...</th>\n",
       "      <th>248</th>\n",
       "      <th>249</th>\n",
       "      <th>250</th>\n",
       "      <th>251</th>\n",
       "      <th>252</th>\n",
       "      <th>253</th>\n",
       "      <th>254</th>\n",
       "      <th>255</th>\n",
       "      <th>256</th>\n",
       "      <th>257</th>\n",
       "    </tr>\n",
       "  </thead>\n",
       "  <tbody>\n",
       "    <tr>\n",
       "      <th>0</th>\n",
       "      <td>6.0</td>\n",
       "      <td>-1.0</td>\n",
       "      <td>-1.0</td>\n",
       "      <td>-1.0</td>\n",
       "      <td>-1.000</td>\n",
       "      <td>-1.000</td>\n",
       "      <td>-1.000</td>\n",
       "      <td>-1.000</td>\n",
       "      <td>-0.631</td>\n",
       "      <td>0.862</td>\n",
       "      <td>...</td>\n",
       "      <td>0.823</td>\n",
       "      <td>1.000</td>\n",
       "      <td>0.482</td>\n",
       "      <td>-0.474</td>\n",
       "      <td>-0.991</td>\n",
       "      <td>-1.000</td>\n",
       "      <td>-1.000</td>\n",
       "      <td>-1.000</td>\n",
       "      <td>-1.0</td>\n",
       "      <td>NaN</td>\n",
       "    </tr>\n",
       "    <tr>\n",
       "      <th>1</th>\n",
       "      <td>5.0</td>\n",
       "      <td>-1.0</td>\n",
       "      <td>-1.0</td>\n",
       "      <td>-1.0</td>\n",
       "      <td>-0.813</td>\n",
       "      <td>-0.671</td>\n",
       "      <td>-0.809</td>\n",
       "      <td>-0.887</td>\n",
       "      <td>-0.671</td>\n",
       "      <td>-0.853</td>\n",
       "      <td>...</td>\n",
       "      <td>-0.671</td>\n",
       "      <td>-0.033</td>\n",
       "      <td>0.761</td>\n",
       "      <td>0.762</td>\n",
       "      <td>0.126</td>\n",
       "      <td>-0.095</td>\n",
       "      <td>-0.671</td>\n",
       "      <td>-0.828</td>\n",
       "      <td>-1.0</td>\n",
       "      <td>NaN</td>\n",
       "    </tr>\n",
       "    <tr>\n",
       "      <th>2</th>\n",
       "      <td>4.0</td>\n",
       "      <td>-1.0</td>\n",
       "      <td>-1.0</td>\n",
       "      <td>-1.0</td>\n",
       "      <td>-1.000</td>\n",
       "      <td>-1.000</td>\n",
       "      <td>-1.000</td>\n",
       "      <td>-1.000</td>\n",
       "      <td>-1.000</td>\n",
       "      <td>-1.000</td>\n",
       "      <td>...</td>\n",
       "      <td>-1.000</td>\n",
       "      <td>-1.000</td>\n",
       "      <td>-0.109</td>\n",
       "      <td>1.000</td>\n",
       "      <td>-0.179</td>\n",
       "      <td>-1.000</td>\n",
       "      <td>-1.000</td>\n",
       "      <td>-1.000</td>\n",
       "      <td>-1.0</td>\n",
       "      <td>NaN</td>\n",
       "    </tr>\n",
       "    <tr>\n",
       "      <th>3</th>\n",
       "      <td>7.0</td>\n",
       "      <td>-1.0</td>\n",
       "      <td>-1.0</td>\n",
       "      <td>-1.0</td>\n",
       "      <td>-1.000</td>\n",
       "      <td>-1.000</td>\n",
       "      <td>-0.273</td>\n",
       "      <td>0.684</td>\n",
       "      <td>0.960</td>\n",
       "      <td>0.450</td>\n",
       "      <td>...</td>\n",
       "      <td>1.000</td>\n",
       "      <td>0.536</td>\n",
       "      <td>-0.987</td>\n",
       "      <td>-1.000</td>\n",
       "      <td>-1.000</td>\n",
       "      <td>-1.000</td>\n",
       "      <td>-1.000</td>\n",
       "      <td>-1.000</td>\n",
       "      <td>-1.0</td>\n",
       "      <td>NaN</td>\n",
       "    </tr>\n",
       "    <tr>\n",
       "      <th>4</th>\n",
       "      <td>3.0</td>\n",
       "      <td>-1.0</td>\n",
       "      <td>-1.0</td>\n",
       "      <td>-1.0</td>\n",
       "      <td>-1.000</td>\n",
       "      <td>-1.000</td>\n",
       "      <td>-0.928</td>\n",
       "      <td>-0.204</td>\n",
       "      <td>0.751</td>\n",
       "      <td>0.466</td>\n",
       "      <td>...</td>\n",
       "      <td>0.639</td>\n",
       "      <td>1.000</td>\n",
       "      <td>1.000</td>\n",
       "      <td>0.791</td>\n",
       "      <td>0.439</td>\n",
       "      <td>-0.199</td>\n",
       "      <td>-0.883</td>\n",
       "      <td>-1.000</td>\n",
       "      <td>-1.0</td>\n",
       "      <td>NaN</td>\n",
       "    </tr>\n",
       "  </tbody>\n",
       "</table>\n",
       "<p>5 rows × 258 columns</p>\n",
       "</div>"
      ],
      "text/plain": [
       "   0    1    2    3      4      5      6      7      8      9   ...     248  \\\n",
       "0  6.0 -1.0 -1.0 -1.0 -1.000 -1.000 -1.000 -1.000 -0.631  0.862 ...   0.823   \n",
       "1  5.0 -1.0 -1.0 -1.0 -0.813 -0.671 -0.809 -0.887 -0.671 -0.853 ...  -0.671   \n",
       "2  4.0 -1.0 -1.0 -1.0 -1.000 -1.000 -1.000 -1.000 -1.000 -1.000 ...  -1.000   \n",
       "3  7.0 -1.0 -1.0 -1.0 -1.000 -1.000 -0.273  0.684  0.960  0.450 ...   1.000   \n",
       "4  3.0 -1.0 -1.0 -1.0 -1.000 -1.000 -0.928 -0.204  0.751  0.466 ...   0.639   \n",
       "\n",
       "     249    250    251    252    253    254    255  256  257  \n",
       "0  1.000  0.482 -0.474 -0.991 -1.000 -1.000 -1.000 -1.0  NaN  \n",
       "1 -0.033  0.761  0.762  0.126 -0.095 -0.671 -0.828 -1.0  NaN  \n",
       "2 -1.000 -0.109  1.000 -0.179 -1.000 -1.000 -1.000 -1.0  NaN  \n",
       "3  0.536 -0.987 -1.000 -1.000 -1.000 -1.000 -1.000 -1.0  NaN  \n",
       "4  1.000  1.000  0.791  0.439 -0.199 -0.883 -1.000 -1.0  NaN  \n",
       "\n",
       "[5 rows x 258 columns]"
      ]
     },
     "execution_count": 5,
     "metadata": {},
     "output_type": "execute_result"
    }
   ],
   "source": [
    "data.head() # head gibt den \"Kopf\" der Datei aus, oder die ersten fünf Zeilen"
   ]
  },
  {
   "cell_type": "markdown",
   "metadata": {},
   "source": [
    "Wie wir sehen, sind die Daten nun bereits strukturiert. Sie wurden in ein Objekt der Klasse **DataFrame** aus dem pandas Packet eingelesen. Die DateFrame Klasse bietet viele Funktionen, um z.B. auf Teilbereiche (wie z.B. Spalten) zuzugreifen oder statistische Auswertungen durchzuführen."
   ]
  },
  {
   "cell_type": "markdown",
   "metadata": {},
   "source": [
    "Wenn wir uns die Ausgabe oben anschauen, ist zu erkennen, dass in der letzten Spalte (257) immer der Wert *NaN* steht. NaN steht für 'Not a number'. Hier ist beim einlesen offensichtlich etwas schief gelaufen! Wir wollen das fixen!"
   ]
  },
  {
   "cell_type": "code",
   "execution_count": 6,
   "metadata": {},
   "outputs": [],
   "source": [
    "cleaned_data = data.iloc[:,:-1] # mit [:,:-1] wählen wir alle Zeilen, und alle bis auf die Letzte (-1) Spalten aus "
   ]
  },
  {
   "cell_type": "markdown",
   "metadata": {},
   "source": [
    "Um einen groben Überblick über die in dem Datensatz enthaltenen Daten zu bekommen lesen wir das Attribut **shape** aus und rufen wir die Funktion und **describe** auf:"
   ]
  },
  {
   "cell_type": "code",
   "execution_count": 7,
   "metadata": {},
   "outputs": [
    {
     "data": {
      "text/plain": [
       "(7291, 257)"
      ]
     },
     "execution_count": 7,
     "metadata": {},
     "output_type": "execute_result"
    }
   ],
   "source": [
    "cleaned_data.shape"
   ]
  },
  {
   "cell_type": "code",
   "execution_count": 8,
   "metadata": {},
   "outputs": [
    {
     "data": {
      "text/html": [
       "<div>\n",
       "<style scoped>\n",
       "    .dataframe tbody tr th:only-of-type {\n",
       "        vertical-align: middle;\n",
       "    }\n",
       "\n",
       "    .dataframe tbody tr th {\n",
       "        vertical-align: top;\n",
       "    }\n",
       "\n",
       "    .dataframe thead th {\n",
       "        text-align: right;\n",
       "    }\n",
       "</style>\n",
       "<table border=\"1\" class=\"dataframe\">\n",
       "  <thead>\n",
       "    <tr style=\"text-align: right;\">\n",
       "      <th></th>\n",
       "      <th>0</th>\n",
       "      <th>1</th>\n",
       "      <th>2</th>\n",
       "      <th>3</th>\n",
       "      <th>4</th>\n",
       "      <th>5</th>\n",
       "      <th>6</th>\n",
       "      <th>7</th>\n",
       "      <th>8</th>\n",
       "      <th>9</th>\n",
       "      <th>...</th>\n",
       "      <th>247</th>\n",
       "      <th>248</th>\n",
       "      <th>249</th>\n",
       "      <th>250</th>\n",
       "      <th>251</th>\n",
       "      <th>252</th>\n",
       "      <th>253</th>\n",
       "      <th>254</th>\n",
       "      <th>255</th>\n",
       "      <th>256</th>\n",
       "    </tr>\n",
       "  </thead>\n",
       "  <tbody>\n",
       "    <tr>\n",
       "      <th>count</th>\n",
       "      <td>7291.000000</td>\n",
       "      <td>7291.000000</td>\n",
       "      <td>7291.000000</td>\n",
       "      <td>7291.000000</td>\n",
       "      <td>7291.000000</td>\n",
       "      <td>7291.000000</td>\n",
       "      <td>7291.000000</td>\n",
       "      <td>7291.000000</td>\n",
       "      <td>7291.000000</td>\n",
       "      <td>7291.000000</td>\n",
       "      <td>...</td>\n",
       "      <td>7291.000000</td>\n",
       "      <td>7291.000000</td>\n",
       "      <td>7291.000000</td>\n",
       "      <td>7291.000000</td>\n",
       "      <td>7291.000000</td>\n",
       "      <td>7291.000000</td>\n",
       "      <td>7291.000000</td>\n",
       "      <td>7291.000000</td>\n",
       "      <td>7291.000000</td>\n",
       "      <td>7291.000000</td>\n",
       "    </tr>\n",
       "    <tr>\n",
       "      <th>mean</th>\n",
       "      <td>3.903443</td>\n",
       "      <td>-0.996417</td>\n",
       "      <td>-0.981138</td>\n",
       "      <td>-0.951153</td>\n",
       "      <td>-0.887738</td>\n",
       "      <td>-0.773468</td>\n",
       "      <td>-0.610302</td>\n",
       "      <td>-0.368991</td>\n",
       "      <td>-0.045769</td>\n",
       "      <td>-0.052641</td>\n",
       "      <td>...</td>\n",
       "      <td>-0.198547</td>\n",
       "      <td>0.139823</td>\n",
       "      <td>0.116439</td>\n",
       "      <td>-0.314108</td>\n",
       "      <td>-0.653711</td>\n",
       "      <td>-0.837858</td>\n",
       "      <td>-0.922194</td>\n",
       "      <td>-0.957393</td>\n",
       "      <td>-0.979290</td>\n",
       "      <td>-0.994678</td>\n",
       "    </tr>\n",
       "    <tr>\n",
       "      <th>std</th>\n",
       "      <td>2.996386</td>\n",
       "      <td>0.051713</td>\n",
       "      <td>0.151202</td>\n",
       "      <td>0.244264</td>\n",
       "      <td>0.360516</td>\n",
       "      <td>0.502659</td>\n",
       "      <td>0.628710</td>\n",
       "      <td>0.716032</td>\n",
       "      <td>0.768304</td>\n",
       "      <td>0.752979</td>\n",
       "      <td>...</td>\n",
       "      <td>0.772895</td>\n",
       "      <td>0.752984</td>\n",
       "      <td>0.757336</td>\n",
       "      <td>0.725859</td>\n",
       "      <td>0.582555</td>\n",
       "      <td>0.414646</td>\n",
       "      <td>0.300830</td>\n",
       "      <td>0.228700</td>\n",
       "      <td>0.158998</td>\n",
       "      <td>0.066056</td>\n",
       "    </tr>\n",
       "    <tr>\n",
       "      <th>min</th>\n",
       "      <td>0.000000</td>\n",
       "      <td>-1.000000</td>\n",
       "      <td>-1.000000</td>\n",
       "      <td>-1.000000</td>\n",
       "      <td>-1.000000</td>\n",
       "      <td>-1.000000</td>\n",
       "      <td>-1.000000</td>\n",
       "      <td>-1.000000</td>\n",
       "      <td>-1.000000</td>\n",
       "      <td>-1.000000</td>\n",
       "      <td>...</td>\n",
       "      <td>-1.000000</td>\n",
       "      <td>-1.000000</td>\n",
       "      <td>-1.000000</td>\n",
       "      <td>-1.000000</td>\n",
       "      <td>-1.000000</td>\n",
       "      <td>-1.000000</td>\n",
       "      <td>-1.000000</td>\n",
       "      <td>-1.000000</td>\n",
       "      <td>-1.000000</td>\n",
       "      <td>-1.000000</td>\n",
       "    </tr>\n",
       "    <tr>\n",
       "      <th>25%</th>\n",
       "      <td>1.000000</td>\n",
       "      <td>-1.000000</td>\n",
       "      <td>-1.000000</td>\n",
       "      <td>-1.000000</td>\n",
       "      <td>-1.000000</td>\n",
       "      <td>-1.000000</td>\n",
       "      <td>-1.000000</td>\n",
       "      <td>-1.000000</td>\n",
       "      <td>-0.999000</td>\n",
       "      <td>-0.950000</td>\n",
       "      <td>...</td>\n",
       "      <td>-1.000000</td>\n",
       "      <td>-0.661500</td>\n",
       "      <td>-0.738000</td>\n",
       "      <td>-1.000000</td>\n",
       "      <td>-1.000000</td>\n",
       "      <td>-1.000000</td>\n",
       "      <td>-1.000000</td>\n",
       "      <td>-1.000000</td>\n",
       "      <td>-1.000000</td>\n",
       "      <td>-1.000000</td>\n",
       "    </tr>\n",
       "    <tr>\n",
       "      <th>50%</th>\n",
       "      <td>4.000000</td>\n",
       "      <td>-1.000000</td>\n",
       "      <td>-1.000000</td>\n",
       "      <td>-1.000000</td>\n",
       "      <td>-1.000000</td>\n",
       "      <td>-1.000000</td>\n",
       "      <td>-1.000000</td>\n",
       "      <td>-0.719000</td>\n",
       "      <td>0.061000</td>\n",
       "      <td>0.002000</td>\n",
       "      <td>...</td>\n",
       "      <td>-0.353000</td>\n",
       "      <td>0.368000</td>\n",
       "      <td>0.336000</td>\n",
       "      <td>-0.579000</td>\n",
       "      <td>-1.000000</td>\n",
       "      <td>-1.000000</td>\n",
       "      <td>-1.000000</td>\n",
       "      <td>-1.000000</td>\n",
       "      <td>-1.000000</td>\n",
       "      <td>-1.000000</td>\n",
       "    </tr>\n",
       "    <tr>\n",
       "      <th>75%</th>\n",
       "      <td>7.000000</td>\n",
       "      <td>-1.000000</td>\n",
       "      <td>-1.000000</td>\n",
       "      <td>-1.000000</td>\n",
       "      <td>-1.000000</td>\n",
       "      <td>-0.962000</td>\n",
       "      <td>-0.391000</td>\n",
       "      <td>0.254500</td>\n",
       "      <td>0.696000</td>\n",
       "      <td>0.674500</td>\n",
       "      <td>...</td>\n",
       "      <td>0.554000</td>\n",
       "      <td>0.835000</td>\n",
       "      <td>0.815000</td>\n",
       "      <td>0.346000</td>\n",
       "      <td>-0.504500</td>\n",
       "      <td>-1.000000</td>\n",
       "      <td>-1.000000</td>\n",
       "      <td>-1.000000</td>\n",
       "      <td>-1.000000</td>\n",
       "      <td>-1.000000</td>\n",
       "    </tr>\n",
       "    <tr>\n",
       "      <th>max</th>\n",
       "      <td>9.000000</td>\n",
       "      <td>0.638000</td>\n",
       "      <td>1.000000</td>\n",
       "      <td>1.000000</td>\n",
       "      <td>1.000000</td>\n",
       "      <td>1.000000</td>\n",
       "      <td>1.000000</td>\n",
       "      <td>1.000000</td>\n",
       "      <td>1.000000</td>\n",
       "      <td>1.000000</td>\n",
       "      <td>...</td>\n",
       "      <td>1.000000</td>\n",
       "      <td>1.000000</td>\n",
       "      <td>1.000000</td>\n",
       "      <td>1.000000</td>\n",
       "      <td>1.000000</td>\n",
       "      <td>1.000000</td>\n",
       "      <td>1.000000</td>\n",
       "      <td>1.000000</td>\n",
       "      <td>1.000000</td>\n",
       "      <td>0.592000</td>\n",
       "    </tr>\n",
       "  </tbody>\n",
       "</table>\n",
       "<p>8 rows × 257 columns</p>\n",
       "</div>"
      ],
      "text/plain": [
       "               0            1            2            3            4    \\\n",
       "count  7291.000000  7291.000000  7291.000000  7291.000000  7291.000000   \n",
       "mean      3.903443    -0.996417    -0.981138    -0.951153    -0.887738   \n",
       "std       2.996386     0.051713     0.151202     0.244264     0.360516   \n",
       "min       0.000000    -1.000000    -1.000000    -1.000000    -1.000000   \n",
       "25%       1.000000    -1.000000    -1.000000    -1.000000    -1.000000   \n",
       "50%       4.000000    -1.000000    -1.000000    -1.000000    -1.000000   \n",
       "75%       7.000000    -1.000000    -1.000000    -1.000000    -1.000000   \n",
       "max       9.000000     0.638000     1.000000     1.000000     1.000000   \n",
       "\n",
       "               5            6            7            8            9    \\\n",
       "count  7291.000000  7291.000000  7291.000000  7291.000000  7291.000000   \n",
       "mean     -0.773468    -0.610302    -0.368991    -0.045769    -0.052641   \n",
       "std       0.502659     0.628710     0.716032     0.768304     0.752979   \n",
       "min      -1.000000    -1.000000    -1.000000    -1.000000    -1.000000   \n",
       "25%      -1.000000    -1.000000    -1.000000    -0.999000    -0.950000   \n",
       "50%      -1.000000    -1.000000    -0.719000     0.061000     0.002000   \n",
       "75%      -0.962000    -0.391000     0.254500     0.696000     0.674500   \n",
       "max       1.000000     1.000000     1.000000     1.000000     1.000000   \n",
       "\n",
       "          ...               247          248          249          250  \\\n",
       "count     ...       7291.000000  7291.000000  7291.000000  7291.000000   \n",
       "mean      ...         -0.198547     0.139823     0.116439    -0.314108   \n",
       "std       ...          0.772895     0.752984     0.757336     0.725859   \n",
       "min       ...         -1.000000    -1.000000    -1.000000    -1.000000   \n",
       "25%       ...         -1.000000    -0.661500    -0.738000    -1.000000   \n",
       "50%       ...         -0.353000     0.368000     0.336000    -0.579000   \n",
       "75%       ...          0.554000     0.835000     0.815000     0.346000   \n",
       "max       ...          1.000000     1.000000     1.000000     1.000000   \n",
       "\n",
       "               251          252          253          254          255  \\\n",
       "count  7291.000000  7291.000000  7291.000000  7291.000000  7291.000000   \n",
       "mean     -0.653711    -0.837858    -0.922194    -0.957393    -0.979290   \n",
       "std       0.582555     0.414646     0.300830     0.228700     0.158998   \n",
       "min      -1.000000    -1.000000    -1.000000    -1.000000    -1.000000   \n",
       "25%      -1.000000    -1.000000    -1.000000    -1.000000    -1.000000   \n",
       "50%      -1.000000    -1.000000    -1.000000    -1.000000    -1.000000   \n",
       "75%      -0.504500    -1.000000    -1.000000    -1.000000    -1.000000   \n",
       "max       1.000000     1.000000     1.000000     1.000000     1.000000   \n",
       "\n",
       "               256  \n",
       "count  7291.000000  \n",
       "mean     -0.994678  \n",
       "std       0.066056  \n",
       "min      -1.000000  \n",
       "25%      -1.000000  \n",
       "50%      -1.000000  \n",
       "75%      -1.000000  \n",
       "max       0.592000  \n",
       "\n",
       "[8 rows x 257 columns]"
      ]
     },
     "execution_count": 8,
     "metadata": {},
     "output_type": "execute_result"
    }
   ],
   "source": [
    "cleaned_data.describe()"
   ]
  },
  {
   "cell_type": "markdown",
   "metadata": {},
   "source": [
    "Aus der Beschreibung der Daten wissen wir, dass es sich um die Ziffern und die dazugehörigen Bilder der Größe 16x16 Pixel handelt. Also in jeder Zeile steht in der 0-ten Spalte die Ziffer und in den folgenden 256 Spalten die einzelnen Pixel der Bilder. Also visualisieren wir diese nun einmal."
   ]
  },
  {
   "cell_type": "code",
   "execution_count": 9,
   "metadata": {},
   "outputs": [],
   "source": [
    "import matplotlib.pyplot as plt"
   ]
  },
  {
   "cell_type": "markdown",
   "metadata": {},
   "source": [
    "Dazu definiere ich mir zwei Hilfsfunktionen:"
   ]
  },
  {
   "cell_type": "code",
   "execution_count": 10,
   "metadata": {},
   "outputs": [],
   "source": [
    "def getNumber(data, digit):\n",
    "    # wähle alle Zeilen in denen die erste Spalte (Spalte mit den Ziffer) mit 'digit' übereinstimmt\n",
    "    data_number = pd.DataFrame(data[data[0] == digit]) \n",
    "    # schneide die erste Spalte weg und gebe den rest zurück\n",
    "    separated_data = data_number.iloc[:,1:]\n",
    "    return separated_data\n"
   ]
  },
  {
   "cell_type": "code",
   "execution_count": 18,
   "metadata": {},
   "outputs": [],
   "source": [
    "def getNumberImage(data, digit, aggregation):\n",
    "    # ruft die Hilfsfunktion getNumber auf um alle Bilddaten Daten zu einer Ziffer zu holen\n",
    "    image_data = getNumber(data, digit)\n",
    "    # bilde aus allen Bildern zu der einen Ziffer ein aggrigiertes Bild\n",
    "    if(aggregation == 'median'):\n",
    "        df1 = pd.DataFrame(image_data.median())\n",
    "    elif(aggregation == 'abs'):\n",
    "        df1 = pd.DataFrame(image_data.abs())\n",
    "    else:\n",
    "        df1 = pd.DataFrame(image_data.mean())        \n",
    "    \n",
    "    # wandle das format von (1,256) -> (16,16) und gebe diesen transformierten DataFrame zurück\n",
    "    return df1.values.reshape(16,16)"
   ]
  },
  {
   "cell_type": "code",
   "execution_count": 19,
   "metadata": {},
   "outputs": [
    {
     "data": {
      "image/png": "[encoded data removed]",
      "text/plain": [
       "<Figure size 1440x720 with 10 Axes>"
      ]
     },
     "metadata": {},
     "output_type": "display_data"
    }
   ],
   "source": [
    "plt.figure(1, figsize=(20, 10))\n",
    "\n",
    "for i in range(0,10):\n",
    "    image = getNumberImage(cleaned_data,i,'median')\n",
    "    \n",
    "    # Call signature: subplot(nrows, ncols, index, **kwargs)\n",
    "    plt.subplot(2,5, 1 + i)\n",
    "    plt.imshow(image, cmap='hot', interpolation='none')\n",
    "\n",
    "plt.show()"
   ]
  },
  {
   "cell_type": "markdown",
   "metadata": {},
   "source": [
    "-----"
   ]
  }
 ],
 "metadata": {
  "kernelspec": {
   "display_name": "Python 2",
   "language": "python",
   "name": "python2"
  },
  "language_info": {
   "codemirror_mode": {
    "name": "ipython",
    "version": 2
   },
   "file_extension": ".py",
   "mimetype": "text/x-python",
   "name": "python",
   "nbconvert_exporter": "python",
   "pygments_lexer": "ipython2",
   "version": "2.7.15"
  }
 },
 "nbformat": 4,
 "nbformat_minor": 2
}
