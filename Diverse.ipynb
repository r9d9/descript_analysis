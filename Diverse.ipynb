{
 "cells": [
  {
   "cell_type": "code",
   "execution_count": 1,
   "metadata": {},
   "outputs": [],
   "source": [
    "import numpy as np"
   ]
  },
  {
   "cell_type": "code",
   "execution_count": 2,
   "metadata": {},
   "outputs": [],
   "source": [
    "#test: neue matrix ist mit Werten gefüllt!\n",
    "n = 10\n",
    "m = 20\n",
    "die_matrix = np.ndarray((n,m))\n",
    "#die_matrix"
   ]
  },
  {
   "cell_type": "code",
   "execution_count": 3,
   "metadata": {},
   "outputs": [
    {
     "name": "stdout",
     "output_type": "stream",
     "text": [
      "[1 4 9]\n"
     ]
    }
   ],
   "source": [
    "test = np.array([1,2,3])\n",
    "powered = np.power(test,2)\n",
    "print(powered)"
   ]
  },
  {
   "cell_type": "code",
   "execution_count": 4,
   "metadata": {},
   "outputs": [
    {
     "name": "stdout",
     "output_type": "stream",
     "text": [
      "[0.    0.05  0.115 1.    0.825 0.65 ]\n",
      "[0.    0.05  0.115 1.    0.825 0.65 ]\n"
     ]
    }
   ],
   "source": [
    "#testing np.interp\n",
    "test2 = np.array([-1,-0.9,-0.77,1,0.65,0.3])\n",
    "new = np.interp(test2, (test2.min(), test2.max()), (0, 1))\n",
    "print(new) \n",
    "newx = test2*0.5 + 0.5\n",
    "print(newx)"
   ]
  },
  {
   "cell_type": "code",
   "execution_count": 5,
   "metadata": {},
   "outputs": [
    {
     "name": "stdout",
     "output_type": "stream",
     "text": [
      "0.218400239944458 s\n"
     ]
    }
   ],
   "source": [
    "import time\n",
    "n = 10000000\n",
    "python_array = [1] * n # array mit n Einträgen\n",
    "start = time.time()\n",
    "mysum = sum(python_array)\n",
    "#for x in range(0, n):\n",
    "#    sum += python_array[x] \n",
    "end = time.time()\n",
    "time_py = end - start\n",
    "print(str(time_py) + \" s\")"
   ]
  },
  {
   "cell_type": "code",
   "execution_count": 12,
   "metadata": {},
   "outputs": [
    {
     "name": "stdout",
     "output_type": "stream",
     "text": [
      "{'a': 1, 'b': 3298, 'c': False}\n",
      "{'a': 2, 'b': 322, 'c': True}\n",
      "{'a': 0, 'b': 0, 'c': 0}\n",
      "{'a': 99999999, 'b': 3298, 'c': False}\n"
     ]
    }
   ],
   "source": [
    "#testing dictionaries\n",
    "mydict = {'a': 1, 'b': 3298, 'c': False}\n",
    "print(mydict)\n",
    "\n",
    "mydict2 = dict(a=2,b=322,c=True) # Achtung: keine '' bei den strings!\n",
    "print(mydict2)\n",
    "\n",
    "mydict3 = {}.fromkeys((\"a\",\"b\",\"c\"),(0)) # wenn mehrere Werte in 2. Klammer, dann werden jeweils alle Werte JEDEM key zugeordnet\n",
    "print(mydict3)\n",
    "\n",
    "mydict[\"a\"] = 99999999\n",
    "print(mydict)"
   ]
  },
  {
   "cell_type": "code",
   "execution_count": 17,
   "metadata": {},
   "outputs": [
    {
     "name": "stdout",
     "output_type": "stream",
     "text": [
      "Blue is a Cat\n"
     ]
    }
   ],
   "source": [
    "class Animal:\n",
    "\tdef __init__(self, name, species):\n",
    "\t\tself.name = name\n",
    "\t\tself.species = species\n",
    "\n",
    "\tdef __repr__(self):\n",
    "\t\treturn f\"{self.name} is a {self.species}\"\n",
    "\n",
    "\tdef make_sound(self, sound):\n",
    "\t\tprint(f\"this animal says {sound}\")\n",
    "\n",
    "\n",
    "class Cat(Animal):\n",
    "\tdef __init__(self, name, breed, toy):\n",
    "\t\tsuper().__init__(name, species=\"Cat\") # Call init on parent class\n",
    "\t\tself.breed = breed\n",
    "\t\tself.toy = toy\n",
    "\n",
    "\tdef play(self):\n",
    "\t\tprint(f\"{self.name} plays with {self.toy}\")\n",
    "\n",
    "\n",
    "garfield = Cat(\"Garield\", \"Exotic Shorthair\", \"String\")\n",
    "print(blue)"
   ]
  },
  {
   "cell_type": "code",
   "execution_count": 21,
   "metadata": {},
   "outputs": [
    {
     "data": {
      "text/plain": [
       "'BEEP BOOP BEEP BOOP.  I AM R2D2'"
      ]
     },
     "execution_count": 21,
     "metadata": {},
     "output_type": "execute_result"
    }
   ],
   "source": [
    "class Robot:\n",
    "\tdef __init__(self, name, battery=100, skills=[]):\n",
    "\t\tself.name = name\n",
    "\t\tself.battery = battery\n",
    "\t\tself.skills = skills\n",
    "\n",
    "\tdef charge(self):\n",
    "\t\tself.battery = 100\n",
    "\t\treturn self\n",
    "\n",
    "\tdef say_name(self):\n",
    "\t\tif self.battery > 0:\n",
    "\t\t\tself.battery -= 1\n",
    "\t\t\treturn f\"BEEP BOOP BEEP BOOP.  I AM {self.name.upper()}\"\n",
    "\t\treturn \"Low power.  Please charge and try again\"\n",
    "\n",
    "\tdef learn_skill(self, new_skill, cost_to_learn):\n",
    "\t\tif self.battery >= cost_to_learn:\n",
    "\t\t\tself.battery -= cost_to_learn\n",
    "\t\t\tself.skills.append(new_skill)\n",
    "\t\t\treturn f\"WOAH. I KNOW {new_skill.upper()}\"\n",
    "\t\treturn \"Insufficient battery. Please charge and try again\"\n",
    "    \n",
    "r2d2 = Robot(\"r2d2\",99,[\"talk\",\"roll\"])\n",
    "r2d2.say_name()"
   ]
  },
  {
   "cell_type": "code",
   "execution_count": null,
   "metadata": {},
   "outputs": [],
   "source": []
  }
 ],
 "metadata": {
  "kernelspec": {
   "display_name": "Python 3",
   "language": "python",
   "name": "python3"
  },
  "language_info": {
   "codemirror_mode": {
    "name": "ipython",
    "version": 3
   },
   "file_extension": ".py",
   "mimetype": "text/x-python",
   "name": "python",
   "nbconvert_exporter": "python",
   "pygments_lexer": "ipython3",
   "version": "3.6.5"
  }
 },
 "nbformat": 4,
 "nbformat_minor": 2
}
